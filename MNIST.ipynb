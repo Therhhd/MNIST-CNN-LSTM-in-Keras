{
 "cells": [
  {
   "cell_type": "markdown",
   "id": "f79309f0",
   "metadata": {},
   "source": [
    "Abstract:\n",
    "In the evolving landscape of artificial intelligence, the integration of Convolutional Neural Networks (CNNs) with Long Short-Term Memory (LSTM) networks presents a compelling frontier for deep learning exploration. The fusion of CNNs, renowned for their prowess in image recognition through the extraction of hierarchical features from visual inputs, with LSTMs, a variant of Recurrent Neural Networks (RNNs) designed to address the vanishing gradient problem by effectively capturing long-term dependencies, signifies a bold venture into uncharted territories of machine learning. By employing the MNIST dataset, a foundational benchmark in the field, this hybrid approach not only leverages the CNN's capability to discern intricate patterns within digit images but also explores how the LSTM's sequential data processing might enhance or impede the network's adaptability to the diverse manifestations of numerical figures. This endeavor is driven by a mathematical curiosity, aiming to unveil whether the LSTM's memory function can refine the CNN's performance by preserving essential information over extended periods, or conversely, if it introduces rigidity, thus hindering the network's ability to acclimate to the fluctuating characteristics of the dataset.\n",
    "\n",
    "Anticipating the outcomes of this experiment, one might foresee two distinct possibilities: On one hand, the synergistic combination could yield a more sophisticated neural network architecture, one that benefits from the LSTM's capacity to remember and utilize past insights, thereby augmenting the CNN's accuracy in image classification tasks. On the other hand, this amalgamation might prove to be a double-edged sword, as the very mechanisms designed to retain long-term dependencies could potentially obstruct the system's flexibility in adapting to the nuances of each numeral"
   ]
  },
  {
   "cell_type": "markdown",
   "id": "daef6ec3",
   "metadata": {},
   "source": [
    "Imports necessary libraries and modules for building and training a deep learning model using TensorFlow and Keras. It includes:\n",
    "\n",
    "numpy for numerical computations,\n",
    "matplotlib.pyplot for plotting graphs,\n",
    "tensorflow and its high-level Keras API for constructing and training neural network models.\n",
    "The imports from tensorflow.keras are specifically for building a Sequential model and include various layers like Dense for fully connected layers, Flatten for flattening input dimensions, Conv2D for convolutional layers, MaxPooling2D for pooling layers, LSTM for long short-term memory layers, and Reshape for altering the shape of inputs. Additionally, it imports to_categorical for converting labels to one-hot encoded vectors and mnist from tensorflow.keras.datasets for accessing the MNIST dataset. The duplicate import line can be cleaned up as it repeats the same layer and model imports."
   ]
  },
  {
   "cell_type": "code",
   "execution_count": 51,
   "id": "02eb13e4",
   "metadata": {},
   "outputs": [],
   "source": [
    "import numpy as np\n",
    "import matplotlib.pyplot as plt\n",
    "import tensorflow as tf\n",
    "from tensorflow.keras.datasets import mnist\n",
    "from tensorflow.keras.layers import Dense, Flatten\n",
    "from tensorflow.keras.utils import to_categorical\n",
    "from tensorflow.keras.models import Sequential\n",
    "from tensorflow.keras.layers import Conv2D, MaxPooling2D, LSTM, Reshape\n",
    "from tensorflow.keras.layers import Dense, Flatten, Conv2D, MaxPooling2D, LSTM, Reshape\n",
    "from tensorflow.keras.models import Sequential"
   ]
  },
  {
   "cell_type": "markdown",
   "id": "1b7a1271",
   "metadata": {},
   "source": [
    " The MNIST dataset, consisting of 60,000 28x28 grayscale images of handwritten digits, is loaded and normalized so that the pixel values are in the range [0, 1]. The labels are converted to one-hot encoded vectors to match the output format expected by the neural network."
   ]
  },
  {
   "cell_type": "code",
   "execution_count": 52,
   "id": "fa765fa4",
   "metadata": {},
   "outputs": [],
   "source": [
    "# Load the MNIST dataset\n",
    "(train_images, train_labels), (test_images, test_labels) = mnist.load_data()"
   ]
  },
  {
   "cell_type": "markdown",
   "id": "ed89edc5",
   "metadata": {},
   "source": [
    "This code snippet is normalizing image data for both training and testing datasets by scaling their pixel values to fall within a range of 0 to 1. This is achieved by dividing the pixel values of each image in the train_images and test_images arrays by 255.0, the maximum possible pixel value in an 8-bit image. Normalization is a common preprocessing step in image processing and machine learning to make the training process faster and more stable."
   ]
  },
  {
   "cell_type": "code",
   "execution_count": 53,
   "id": "e1c2557f",
   "metadata": {},
   "outputs": [],
   "source": [
    "# Normalize the images to have values between 0 and 1\n",
    "train_images = train_images / 255.0\n",
    "test_images = test_images / 255.0"
   ]
  },
  {
   "cell_type": "markdown",
   "id": "d1351d11",
   "metadata": {},
   "source": [
    "This code snippet transforms the labels in the training and testing datasets into one-hot encoded vectors using the to_categorical function. One-hot encoding is a process where categorical labels are converted into a format that can be provided to machine learning algorithms to improve prediction and classification. Each label is represented as a vector that is all zeros except for a single one at the index of the class the label represents. This method is commonly used for preparing categorical data in machine learning preprocessing."
   ]
  },
  {
   "cell_type": "code",
   "execution_count": 54,
   "id": "3c140a0c",
   "metadata": {},
   "outputs": [],
   "source": [
    "# Convert labels to one-hot encoded vectors\n",
    "train_labels = to_categorical(train_labels)\n",
    "test_labels = to_categorical(test_labels)"
   ]
  },
  {
   "cell_type": "markdown",
   "id": "fcb4bd1e",
   "metadata": {},
   "source": [
    "This code outlines a neural network model structured in a sequential manner, starting with a convolutional layer (Conv2D) for initial image feature extraction. It incorporates max pooling to reduce the feature map size, followed by a reshape operation to prepare the data for an LSTM layer, which processes data sequences. The model concludes with a dense layer employing a softmax activation function, designed for classifying inputs into ten distinct categories, suitable for digit classification tasks."
   ]
  },
  {
   "cell_type": "code",
   "execution_count": 60,
   "id": "d2470c17",
   "metadata": {},
   "outputs": [],
   "source": [
    "model = Sequential([\n",
    "    Conv2D(32, kernel_size=(3, 3), activation='relu', input_shape=(28, 28, 1)),\n",
    "    MaxPooling2D(pool_size=(2, 2)),\n",
    "    Reshape((13, 13*32)),  # Adjusting reshape dimensions to match actual output\n",
    "    LSTM(128, activation='relu', return_sequences=False),\n",
    "    Dense(10, activation='softmax')\n",
    "])"
   ]
  },
  {
   "cell_type": "markdown",
   "id": "60709ff5",
   "metadata": {},
   "source": [
    "This code configures the neural network model for training by specifying the 'adam' optimizer for gradient descent, using 'categorical_crossentropy' as the loss function for multi-class classification, and tracking the 'accuracy' metric to evaluate perf|ormance during training and testing."
   ]
  },
  {
   "cell_type": "code",
   "execution_count": 61,
   "id": "861d66e7",
   "metadata": {},
   "outputs": [],
   "source": [
    "# Compile the model\n",
    "model.compile(optimizer='adam',\n",
    "              loss='categorical_crossentropy',\n",
    "              metrics=['accuracy'])\n"
   ]
  },
  {
   "cell_type": "markdown",
   "id": "6490b351",
   "metadata": {},
   "source": [
    "This code initiates the training of the neural network model on the dataset, dividing it into training and validation sets with a 20% validation split. It sets the model to train for 5 epochs, updating the weights through iterations to minimize loss and improve accuracy on the dataset."
   ]
  },
  {
   "cell_type": "code",
   "execution_count": 65,
   "id": "3aa6ae69",
   "metadata": {
    "scrolled": false
   },
   "outputs": [
    {
     "name": "stdout",
     "output_type": "stream",
     "text": [
      "Epoch 1/5\n",
      "\u001b[1m1500/1500\u001b[0m \u001b[32m━━━━━━━━━━━━━━━━━━━━\u001b[0m\u001b[37m\u001b[0m \u001b[1m15s\u001b[0m 10ms/step - accuracy: 0.9996 - loss: 0.0014 - val_accuracy: 0.9917 - val_loss: 0.0497\n",
      "Epoch 2/5\n",
      "\u001b[1m1500/1500\u001b[0m \u001b[32m━━━━━━━━━━━━━━━━━━━━\u001b[0m\u001b[37m\u001b[0m \u001b[1m15s\u001b[0m 10ms/step - accuracy: 0.9992 - loss: 0.0033 - val_accuracy: 0.9890 - val_loss: 0.0649\n",
      "Epoch 3/5\n",
      "\u001b[1m1500/1500\u001b[0m \u001b[32m━━━━━━━━━━━━━━━━━━━━\u001b[0m\u001b[37m\u001b[0m \u001b[1m15s\u001b[0m 10ms/step - accuracy: 0.9992 - loss: 0.0024 - val_accuracy: 0.9898 - val_loss: 0.0680\n",
      "Epoch 4/5\n",
      "\u001b[1m1500/1500\u001b[0m \u001b[32m━━━━━━━━━━━━━━━━━━━━\u001b[0m\u001b[37m\u001b[0m \u001b[1m15s\u001b[0m 10ms/step - accuracy: 0.9995 - loss: 0.0021 - val_accuracy: 0.9894 - val_loss: 0.0797\n",
      "Epoch 5/5\n",
      "\u001b[1m1500/1500\u001b[0m \u001b[32m━━━━━━━━━━━━━━━━━━━━\u001b[0m\u001b[37m\u001b[0m \u001b[1m15s\u001b[0m 10ms/step - accuracy: 0.9990 - loss: 0.0035 - val_accuracy: 0.9919 - val_loss: 0.0596\n"
     ]
    }
   ],
   "source": [
    "# Train the model\n",
    "history = model.fit(train_images, train_labels, epochs=5, validation_split=0.2)\n"
   ]
  },
  {
   "cell_type": "markdown",
   "id": "64950cc1",
   "metadata": {},
   "source": [
    "This code assesses the trained neural network model's performance by evaluating it against a separate test dataset. It calculates the loss and accuracy, then prints the test accuracy to provide insight into how well the model generalizes to new, unseen data."
   ]
  },
  {
   "cell_type": "code",
   "execution_count": 66,
   "id": "37704dbc",
   "metadata": {},
   "outputs": [
    {
     "name": "stdout",
     "output_type": "stream",
     "text": [
      "313/313 - 1s - 4ms/step - accuracy: 0.9915 - loss: 0.0383\n",
      "\n",
      "Test accuracy: 0.9915000200271606\n"
     ]
    }
   ],
   "source": [
    "# Evaluate the model on test set\n",
    "test_loss, test_acc = model.evaluate(test_images, test_labels, verbose=2)\n",
    "print('\\nTest accuracy:', test_acc)"
   ]
  },
  {
   "cell_type": "markdown",
   "id": "f5bf1c06",
   "metadata": {},
   "source": [
    "This code snippet uses Matplotlib to plot the training and validation accuracy of the neural network model over epochs. It sets up two lines on the graph: one for the accuracy on the training set and another for the accuracy on the validation set. The x-axis represents the epoch number, and the y-axis represents accuracy, with a range set from 0.5 to 1 to focus on the higher accuracy spectrum. A legend is included for clarity, positioned in the lower right of the plot."
   ]
  },
  {
   "cell_type": "code",
   "execution_count": 67,
   "id": "e54a8528",
   "metadata": {
    "scrolled": false
   },
   "outputs": [
    {
     "data": {
      "text/plain": [
       "<matplotlib.legend.Legend at 0x1d5c9d67700>"
      ]
     },
     "execution_count": 67,
     "metadata": {},
     "output_type": "execute_result"
    },
    {
     "data": {
      "image/png": "[encoded data removed]",
      "text/plain": [
       "<Figure size 640x480 with 1 Axes>"
      ]
     },
     "metadata": {},
     "output_type": "display_data"
    }
   ],
   "source": [
    "# Plot training and validation accuracy\n",
    "plt.plot(history.history['accuracy'], label='accuracy')\n",
    "plt.plot(history.history['val_accuracy'], label = 'val_accuracy')\n",
    "plt.xlabel('Epoch')\n",
    "plt.ylabel('Accuracy')\n",
    "plt.ylim([0.5, 1])\n",
    "plt.legend(loc='lower right')"
   ]
  },
  {
   "cell_type": "code",
   "execution_count": 68,
   "id": "181c4a0b",
   "metadata": {},
   "outputs": [],
   "source": [
    "# Display the plot\n",
    "plt.show()"
   ]
  },
  {
   "cell_type": "code",
   "execution_count": null,
   "id": "4c154c6d",
   "metadata": {},
   "outputs": [],
   "source": []
  },
  {
   "cell_type": "code",
   "execution_count": null,
   "id": "1cf0cb9b",
   "metadata": {},
   "outputs": [],
   "source": []
  }
 ],
 "metadata": {
  "kernelspec": {
   "display_name": "Python 3 (ipykernel)",
   "language": "python",
   "name": "python3"
  },
  "language_info": {
   "codemirror_mode": {
    "name": "ipython",
    "version": 3
   },
   "file_extension": ".py",
   "mimetype": "text/x-python",
   "name": "python",
   "nbconvert_exporter": "python",
   "pygments_lexer": "ipython3",
   "version": "3.9.13"
  }
 },
 "nbformat": 4,
 "nbformat_minor": 5
}
